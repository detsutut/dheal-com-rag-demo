{
 "cells": [
  {
   "cell_type": "code",
   "id": "initial_id",
   "metadata": {
    "collapsed": true,
    "ExecuteTime": {
     "end_time": "2025-02-24T11:11:53.920403Z",
     "start_time": "2025-02-24T11:11:53.906362Z"
    }
   },
   "source": [
    "import sys\n",
    "import yaml\n",
    "import os\n",
    "from dotenv import dotenv_values\n",
    "sys.path.append(\"../\")\n",
    "settings_file = \"../reuma_settings.yaml\"\n",
    "\n",
    "with open(settings_file) as stream:\n",
    "    config = yaml.safe_load(stream)\n",
    "\n",
    "wd = os.path.abspath(os.path.dirname(settings_file))\n",
    "os.chdir(wd)\n",
    "\n",
    "AWS_SECRETS = config.get(\"bedrock\").get(\"secrets-path\")\n",
    "GRADIO_SECRETS = config.get(\"gradio\").get(\"secrets-path\")"
   ],
   "outputs": [],
   "execution_count": 1
  },
  {
   "metadata": {
    "ExecuteTime": {
     "end_time": "2025-02-24T11:12:08.335871Z",
     "start_time": "2025-02-24T11:11:58.210456Z"
    }
   },
   "cell_type": "code",
   "source": [
    "from bedrock_inference.bedrock import aws_login_mfa\n",
    "mfa_token = input(\"Enter MFA token: \")\n",
    "session = aws_login_mfa(arn=dotenv_values(AWS_SECRETS).get(\"AWS_ARN_MFA_DEVICE\"),\n",
    "                        aws_access_key_id=dotenv_values(AWS_SECRETS).get(\"AWS_ACCESS_KEY_ID\"),\n",
    "                        aws_secret_access_key=dotenv_values(AWS_SECRETS).get(\"AWS_SECRET_ACCESS_KEY\"),\n",
    "                        token=mfa_token,\n",
    "                        duration=3600)"
   ],
   "id": "3befa5b5f10a5a01",
   "outputs": [],
   "execution_count": 2
  },
  {
   "metadata": {
    "ExecuteTime": {
     "end_time": "2025-02-24T11:50:50.657252Z",
     "start_time": "2025-02-24T11:50:50.519313Z"
    }
   },
   "cell_type": "code",
   "source": [
    "%load_ext autoreload\n",
    "%autoreload 2"
   ],
   "id": "eda65251631e7f8b",
   "outputs": [
    {
     "name": "stdout",
     "output_type": "stream",
     "text": [
      "The autoreload extension is already loaded. To reload it, use:\n",
      "  %reload_ext autoreload\n"
     ]
    }
   ],
   "execution_count": 11
  },
  {
   "metadata": {
    "ExecuteTime": {
     "end_time": "2025-02-24T11:50:51.898366Z",
     "start_time": "2025-02-24T11:50:51.866418Z"
    }
   },
   "cell_type": "code",
   "source": [
    "from rags import Rag\n",
    "rag = Rag(session=session,\n",
    "          model=config.get(\"bedrock\").get(\"model-id\"),\n",
    "          embedder=config.get(\"bedrock\").get(\"embedder-id\"),\n",
    "          vector_store=config.get(\"vector-db-path\"),\n",
    "          region=config.get(\"bedrock\").get(\"region\"))"
   ],
   "id": "a8df846f3f93dc51",
   "outputs": [],
   "execution_count": 12
  },
  {
   "metadata": {
    "ExecuteTime": {
     "end_time": "2025-02-24T11:50:54.063021Z",
     "start_time": "2025-02-24T11:50:53.995835Z"
    }
   },
   "cell_type": "code",
   "source": [
    "from IPython.display import Image, display\n",
    "display(Image(rag.get_image()))"
   ],
   "id": "ee4f73f77d715444",
   "outputs": [
    {
     "data": {
      "image/png": "[encoded data removed]",
      "text/plain": [
       "<IPython.core.display.Image object>"
      ]
     },
     "metadata": {},
     "output_type": "display_data"
    }
   ],
   "execution_count": 13
  },
  {
   "metadata": {
    "ExecuteTime": {
     "end_time": "2025-02-24T11:52:24.734339Z",
     "start_time": "2025-02-24T11:52:16.549692Z"
    }
   },
   "cell_type": "code",
   "source": [
    "question = input(\"Enter a question: \")\n",
    "rag.invoke({\"question\": question, \"additional_context\": \"\", \"query_aug\": False})"
   ],
   "id": "22d088213f8a91c1",
   "outputs": [
    {
     "name": "stderr",
     "output_type": "stream",
     "text": [
      "2025-02-24 12:52:23,284 - langchain_aws.llms.bedrock - INFO - Using Bedrock Invoke API to generate response\n"
     ]
    },
    {
     "data": {
      "text/plain": [
       "{'question': 'come si classifica la gotta?',\n",
       " 'context': [Document(id='24aaa6c9-0277-47a0-aad8-e52cddd8138a', metadata={'source': '/Users/detsutut/Repositories/dheal-com-rag-demo/rag/kb_res/gotta.txt'}, page_content=\"1. Criteri di classificazione della Gotta 2015 I fattori chiave iniziali identificati come importanti per la classificazione della gotta sono stati la presenza di cristalli urato monosodico, la distribuzione del coinvolgimento articolare, l'intensità degli episodi sintomatici, il tempo di raggiungimento del dolore massimo e di risoluzione, la natura episodica dei sintomi, la presenza di tofi rilevati clinicamente, il livello di urato/acido urico sierico e le caratteristiche di imaging/agl esami\"),\n",
       "  Document(id='b1b15d96-eca4-44dd-bff3-a2ec35b0d2bf', metadata={'source': '/Users/detsutut/Repositories/dheal-com-rag-demo/rag/kb_res/gotta.txt'}, page_content='punteggio totale. Questo approccio è stato adottato per sottolineare che questi risultati riducono la probabilità di gotta. Se non viene eseguita la diagnostica per immagini, a queste categorie viene attribuito un punteggio pari a 0.'),\n",
       "  Document(id='d1265dd6-6f7b-4f57-9623-a6f97cd93a1a', metadata={'source': '/Users/detsutut/Repositories/dheal-com-rag-demo/rag/kb_res/gotta.txt'}, page_content=\"Il massimo punteggio possibile nei criteri finali è 23. Un punteggio soglia maggiore o uguale di 8 classifica un individuo come affetto da gotta. Se il liquido sinoviale e' negativo per cristalli di urato monosodico, vengono sottratti 2 punti dal punteggio totale. Allo stesso modo, se il livello di urato/acido urico sierico è minore di 4 mg/dL (minore di 0,24 mmol/L), vengono sottratti 4 punti dal punteggio totale. Questo approccio è stato adottato per sottolineare che questi risultati riducono\"),\n",
       "  Document(id='bbd962f3-26e7-4d4e-a3cd-ba7b7c55ef4b', metadata={'source': '/Users/detsutut/Repositories/dheal-com-rag-demo/rag/kb_res/gotta.txt'}, page_content='una presentazione poliarticolare, sebbene possibile nella gotta, non era sufficientemente specifico per la gotta.')],\n",
       " 'additional_context': '',\n",
       " 'query_aug': False,\n",
       " 'answer': \" La gotta viene classificata in base alla presenza di cristalli di urato monosodico, alla distribuzione del coinvolgimento articolare, all'intensità degli episodi sintomatici, al tempo di raggiungimento del dolore massimo e di risoluzione, alla natura episodica dei sintomi, alla presenza di tofi clinicamente rilevati, al livello di urato/acido urico sierico e alle caratteristiche di imaging/esami. Un punteggio totale di almeno 8 indica una probabilità elevata di gotta.\"}"
      ]
     },
     "execution_count": 15,
     "metadata": {},
     "output_type": "execute_result"
    }
   ],
   "execution_count": 15
  }
 ],
 "metadata": {
  "kernelspec": {
   "display_name": "Python 3",
   "language": "python",
   "name": "python3"
  },
  "language_info": {
   "codemirror_mode": {
    "name": "ipython",
    "version": 2
   },
   "file_extension": ".py",
   "mimetype": "text/x-python",
   "name": "python",
   "nbconvert_exporter": "python",
   "pygments_lexer": "ipython2",
   "version": "2.7.6"
  }
 },
 "nbformat": 4,
 "nbformat_minor": 5
}
